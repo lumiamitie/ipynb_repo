{
 "cells": [
  {
   "cell_type": "markdown",
   "metadata": {},
   "source": [
    "# Random Walks and Simulation Models"
   ]
  },
  {
   "cell_type": "markdown",
   "metadata": {},
   "source": [
    "## RANDOM WALKS"
   ]
  },
  {
   "cell_type": "markdown",
   "metadata": {},
   "source": [
    "### Simulation Models"
   ]
  },
  {
   "cell_type": "markdown",
   "metadata": {},
   "source": [
    "Simulation attempts to build and experimental device called a model\n",
    "\n",
    "Descriptive not prescriptive - 어떠한 조건이 주어졌을 때 어떤 결과물이 나오는지는 알 수 있지만 어떠한 조건을 주어야 최적의 값을 구할 수 있을 지는 쉽게 알 수 없다"
   ]
  },
  {
   "cell_type": "markdown",
   "metadata": {},
   "source": [
    "- Deterministic vs Stochastic\n",
    "\n",
    "- Static vs Dynamic\n",
    "\n",
    "- Discrete vs Continuous"
   ]
  },
  {
   "cell_type": "markdown",
   "metadata": {},
   "source": [
    "### Kinds of Simulation Models"
   ]
  },
  {
   "cell_type": "markdown",
   "metadata": {},
   "source": [
    "- **Deterministic simulations** are completely defined by the model \n",
    "\n",
    "    - Rerunning the simulation will not change the result\n",
    "    \n",
    "- **Stochastic simulations** include randomness\n",
    "\n",
    "    - Different runs can generate different results\n",
    "    \n",
    "    \n",
    "    \n",
    "- In a **discrete model**, values of variables are enumerable (e.g. integers)<br /> In a **continuous model**, they are not enumerable(e.g. real numbers)"
   ]
  },
  {
   "cell_type": "markdown",
   "metadata": {},
   "source": [
    "A **deterministic model** is one whose behavior is entirely predictable. Every set of variable states is uniquely determined by parameters in the model and by sets of previous states of these variables. Therefore, these models perform the same way for a given set of initial conditions, and it is possible to predict preciely what will happen."
   ]
  },
  {
   "cell_type": "markdown",
   "metadata": {},
   "source": [
    "A **stochastic model** is one in which randomness is present, and variable states are not described by unique values, but rather by probability distributions. The behavior of this model cannot be entirely predicted."
   ]
  },
  {
   "cell_type": "markdown",
   "metadata": {},
   "source": [
    "A **static model** does not account for the element of time. In this type of model, a simulation will give us a snapshot at a single point of time."
   ]
  },
  {
   "cell_type": "markdown",
   "metadata": {},
   "source": [
    "A **dynamic model** does account for the element of time. This type of model often contains state variables that change over time."
   ]
  },
  {
   "cell_type": "markdown",
   "metadata": {},
   "source": [
    "A **discrete model** does not take into account the function of time. The state variables change only at a countable number of points in time, abruptly from one state to another."
   ]
  },
  {
   "cell_type": "markdown",
   "metadata": {},
   "source": [
    "A **continuous model** does take into account the function of time, typically by modelling a function $f(t)$ and the changes reflected over time intervals. The state variables change in an unbroken way through an infinite number of states."
   ]
  },
  {
   "cell_type": "markdown",
   "metadata": {},
   "source": [
    "Systems that are not mathematically tractable\n",
    "\n",
    "- successive refinements\n",
    "\n",
    "- Extract intermediate results\n",
    "\n",
    "- Availability computers & big memories"
   ]
  },
  {
   "cell_type": "markdown",
   "metadata": {},
   "source": [
    "Experimental device called a model\n",
    "\n",
    "Simulations models approximate reality\n",
    "\n",
    "models provide predictions\n",
    "\n",
    "**All models are wrong, but some are useful.** - George Box"
   ]
  },
  {
   "cell_type": "markdown",
   "metadata": {},
   "source": [
    "---"
   ]
  },
  {
   "cell_type": "markdown",
   "metadata": {},
   "source": [
    "## DRUNKEN WALKS"
   ]
  },
  {
   "cell_type": "markdown",
   "metadata": {},
   "source": [
    "### Brownian Motion"
   ]
  },
  {
   "cell_type": "markdown",
   "metadata": {},
   "source": [
    "Random walk is a walk."
   ]
  },
  {
   "cell_type": "markdown",
   "metadata": {},
   "source": [
    "class\n",
    "\n",
    "- Location\n",
    "\n",
    "- Field\n",
    "\n",
    "- Drunk"
   ]
  },
  {
   "cell_type": "code",
   "execution_count": 1,
   "metadata": {
    "collapsed": true
   },
   "outputs": [],
   "source": [
    "class Location(object):\n",
    "    \n",
    "    def __init__(self, x, y):\n",
    "        \"\"\"x and y are floats\"\"\"\n",
    "        self.x = x\n",
    "        self.y = y\n",
    "        \n",
    "    def move(self, deltaX, deltaY):\n",
    "        \"\"\"deltaX and deltaY are floats\"\"\"\n",
    "        return Location(self.x + deltaX, self.y + deltaY)\n",
    "    \n",
    "    def getX(self):\n",
    "        return self.x\n",
    "    \n",
    "    def getY(self):\n",
    "        return self.y\n",
    "    \n",
    "    def distFrom(self, other):\n",
    "        ox = other.x\n",
    "        oy = other.y\n",
    "        xDist = self.x - ox\n",
    "        yDist = self.y - oy\n",
    "        return (xDist**2 + yDist**2)**0.5\n",
    "    \n",
    "    def __str__(self):\n",
    "        return '<' + str(self.x) + ', ' + str(self.y) + '>'"
   ]
  },
  {
   "cell_type": "markdown",
   "metadata": {},
   "source": [
    "Notable Aspects of Class **Location**\n",
    "\n",
    "- Two dimensions\n",
    "\n",
    "- No built-in assumption about direction\n",
    "\n",
    "---"
   ]
  },
  {
   "cell_type": "code",
   "execution_count": 2,
   "metadata": {
    "collapsed": true
   },
   "outputs": [],
   "source": [
    "class Field(object):\n",
    "    \n",
    "    def __init__(self):\n",
    "        self.drunks = {}\n",
    "        \n",
    "    def addDrunk(self, drunk, loc):\n",
    "        if drunk in self.drunks:\n",
    "            raise ValueError('Duplicate drunk')\n",
    "        else:\n",
    "            self.drunks[drunk] = loc\n",
    "            \n",
    "    def moveDrunk(self, drunk):\n",
    "        if not drunk in self.drunks:\n",
    "            raise ValueError('Drunk not in field')\n",
    "        xDist, yDist = drunk.takeStep()\n",
    "        currentLocation = self.drunks[drunk]\n",
    "        #use move method of Location to get new location\n",
    "        self.drunks[drunk] = currentLocation.move(xDist, yDist)\n",
    "        \n",
    "    def getLoc(self, drunk):\n",
    "        if not drunk in self.drunks:\n",
    "            raise ValueError('Drunk not in field')\n",
    "        return self.drunks[drunk]"
   ]
  },
  {
   "cell_type": "markdown",
   "metadata": {},
   "source": [
    "Notable Aspects of Class **Field**\n",
    "\n",
    "- Many drunks\n",
    "\n",
    "- Drunks can be at same location\n",
    "\n",
    "- Field onbounded"
   ]
  },
  {
   "cell_type": "code",
   "execution_count": 4,
   "metadata": {
    "collapsed": true
   },
   "outputs": [],
   "source": [
    "class Drunk(object):\n",
    "    def __init__(self, name):\n",
    "        self.name = name\n",
    "    def __str__(self):\n",
    "        return 'This drunk is named ' + self.name\n",
    "# Abstract class\n",
    "    \n",
    "    \n",
    "import random\n",
    "    \n",
    "class UsualDrunk(Drunk):\n",
    "    def takeStep(self):\n",
    "        stepChoices =\\\n",
    "            [(0.0,1.0), (0.0,-1.0), (1.0, 0.0), (-1.0, 0.0)]\n",
    "        return random.choice(stepChoices)"
   ]
  },
  {
   "cell_type": "code",
   "execution_count": 5,
   "metadata": {
    "collapsed": false
   },
   "outputs": [
    {
     "data": {
      "text/plain": [
       "2"
      ]
     },
     "execution_count": 5,
     "metadata": {},
     "output_type": "execute_result"
    }
   ],
   "source": [
    "random.choice(range(3))"
   ]
  },
  {
   "cell_type": "markdown",
   "metadata": {},
   "source": [
    "A random walk can be used to model real-life phenomena that are not necessarily random. Particle behavior is one these applications. Using a random walk, we can simulate the path of one or more molecules in a variable-density medium and gain insight into certain processes like diffusion."
   ]
  },
  {
   "cell_type": "markdown",
   "metadata": {},
   "source": [
    "### LC Problem2 - Using the random module"
   ]
  },
  {
   "cell_type": "markdown",
   "metadata": {},
   "source": [
    "<https://docs.python.org/3.5/library/random.html> "
   ]
  },
  {
   "cell_type": "code",
   "execution_count": 8,
   "metadata": {
    "collapsed": false
   },
   "outputs": [
    {
     "data": {
      "text/plain": [
       "4"
      ]
     },
     "execution_count": 8,
     "metadata": {},
     "output_type": "execute_result"
    }
   ],
   "source": [
    "import random\n",
    "\n",
    "random.randint(1,5)\n",
    "# random.randint(a,b)\n",
    "# Return a random integer N such that a <= N <= b\n",
    "# Alia for randrange(a, b+1)"
   ]
  },
  {
   "cell_type": "code",
   "execution_count": 7,
   "metadata": {
    "collapsed": false
   },
   "outputs": [
    {
     "data": {
      "text/plain": [
       "'apple'"
      ]
     },
     "execution_count": 7,
     "metadata": {},
     "output_type": "execute_result"
    }
   ],
   "source": [
    "random.choice(['apple', 'banana', 'cat'])"
   ]
  },
  {
   "cell_type": "markdown",
   "metadata": {},
   "source": [
    "How would you randomly generate an even number `x, 0 <= x < 100` ??"
   ]
  },
  {
   "cell_type": "code",
   "execution_count": 21,
   "metadata": {
    "collapsed": true
   },
   "outputs": [],
   "source": [
    "import random\n",
    "\n",
    "def getEven():\n",
    "    '''\n",
    "    Returns a random even number x, where 0 <= x < 100\n",
    "    '''\n",
    "    # return random.randrange(0, 100, 2)\n",
    "    # return random.choice(range(0, 100, 2))\n",
    "    # return int(random.random() * 50)*2\n",
    "    # return random.choice(range(0, 50))*2\n",
    "    \n",
    "    half_x = random.randint(0, 49)\n",
    "    \n",
    "    return 2 * half_x\n",
    "    "
   ]
  },
  {
   "cell_type": "code",
   "execution_count": 19,
   "metadata": {
    "collapsed": false
   },
   "outputs": [
    {
     "data": {
      "text/plain": [
       "26"
      ]
     },
     "execution_count": 19,
     "metadata": {},
     "output_type": "execute_result"
    }
   ],
   "source": [
    "getEven()"
   ]
  },
  {
   "cell_type": "markdown",
   "metadata": {},
   "source": [
    "### LC Problem 3A"
   ]
  },
  {
   "cell_type": "markdown",
   "metadata": {},
   "source": [
    "Write a deterministic program, `deterministicNumber`, that returns an even number between 9 and 21."
   ]
  },
  {
   "cell_type": "code",
   "execution_count": 22,
   "metadata": {
    "collapsed": true
   },
   "outputs": [],
   "source": [
    "import random\n",
    "\n",
    "def deterministicNumber():\n",
    "    '''\n",
    "    Deterministically generates and returns an even number between 9 and 21\n",
    "    '''\n",
    "    # return 10\n",
    "    # return 12\n",
    "    # ...\n",
    "    \n",
    "    random.seed(0)\n",
    "    return 2 * random.randint(5, 10)"
   ]
  },
  {
   "cell_type": "code",
   "execution_count": 23,
   "metadata": {
    "collapsed": false
   },
   "outputs": [
    {
     "data": {
      "text/plain": [
       "16"
      ]
     },
     "execution_count": 23,
     "metadata": {},
     "output_type": "execute_result"
    }
   ],
   "source": [
    "deterministicNumber()"
   ]
  },
  {
   "cell_type": "markdown",
   "metadata": {},
   "source": [
    "### LC Problem 3B"
   ]
  },
  {
   "cell_type": "markdown",
   "metadata": {},
   "source": [
    "Write a uniformly distributed stochastic program, `stochasticNumber`, that returns an even number between 9 and 21."
   ]
  },
  {
   "cell_type": "code",
   "execution_count": 24,
   "metadata": {
    "collapsed": true
   },
   "outputs": [],
   "source": [
    "def stochasticNumber():\n",
    "    '''\n",
    "    Stochastically generates and returns a uniformly distributed even number between 9 and 21\n",
    "    '''\n",
    "    # return random.randrange(10, 22, 2)\n",
    "    return 2 * random.randint(5, 10)"
   ]
  },
  {
   "cell_type": "code",
   "execution_count": 25,
   "metadata": {
    "collapsed": false
   },
   "outputs": [
    {
     "data": {
      "text/plain": [
       "16"
      ]
     },
     "execution_count": 25,
     "metadata": {},
     "output_type": "execute_result"
    }
   ],
   "source": [
    "stochasticNumber()"
   ]
  },
  {
   "cell_type": "markdown",
   "metadata": {},
   "source": [
    "### LC Problem 4"
   ]
  },
  {
   "cell_type": "markdown",
   "metadata": {},
   "source": [
    "1.. Are the following two distributions equivalent?"
   ]
  },
  {
   "cell_type": "code",
   "execution_count": 26,
   "metadata": {
    "collapsed": true
   },
   "outputs": [],
   "source": [
    "import random\n",
    "def dist1():\n",
    "    return random.random() * 2 - 1\n",
    "\n",
    "def dist2():\n",
    "    if random.random() > 0.5:\n",
    "        return random.random()\n",
    "    else:\n",
    "        return random.random() - 1 "
   ]
  },
  {
   "cell_type": "markdown",
   "metadata": {},
   "source": [
    "**Yes**\n",
    "\n",
    "The random.random() distribution is uniform, so both `dist1` and `dist2` are a uniform distribution over [-1.0, 1.0)"
   ]
  },
  {
   "cell_type": "markdown",
   "metadata": {},
   "source": [
    "---"
   ]
  },
  {
   "cell_type": "markdown",
   "metadata": {},
   "source": [
    "2.. Are the following two distributions equivalent?"
   ]
  },
  {
   "cell_type": "code",
   "execution_count": 27,
   "metadata": {
    "collapsed": true
   },
   "outputs": [],
   "source": [
    "import random\n",
    "def dist3():\n",
    "    return int(random.random() * 10)\n",
    "\n",
    "def dist4():\n",
    "    return random.randrange(0, 10)"
   ]
  },
  {
   "cell_type": "markdown",
   "metadata": {},
   "source": [
    "**Yes**\n",
    "\n",
    "The `random.random()` distribution is uniform, and so is the `random.randrange()` distribution, so both dist3 and dist4 are a discrete uniform distribution over `[0, 1, 2, 3, 4, 5, 6, 7, 8, 9]`."
   ]
  },
  {
   "cell_type": "markdown",
   "metadata": {},
   "source": [
    "---"
   ]
  },
  {
   "cell_type": "markdown",
   "metadata": {},
   "source": [
    "3.. Are the following two distribution equivalent?"
   ]
  },
  {
   "cell_type": "code",
   "execution_count": 28,
   "metadata": {
    "collapsed": true
   },
   "outputs": [],
   "source": [
    "import random\n",
    "def dist5():\n",
    "    return int(random.random() * 10)\n",
    "\n",
    "def dist6():\n",
    "    return random.randint(0, 10)"
   ]
  },
  {
   "cell_type": "markdown",
   "metadata": {},
   "source": [
    "**No**\n",
    "\n",
    "The `random.random()` distribution is uniform, and so is the `random.randint()` distribution. However unlike `random.randrange(start, end)`, `random.randint(start, end)` returns a distribution that is inclusive of both the given start and end points.\n",
    "\n",
    "Thus dist5 is a discrete uniform distribution over `[0, 1, 2, 3, 4, 5, 6, 7, 8, 9]`, but dist6 is a discrete uniform distribution over `[0, 1, 2, 3, 4, 5, 6, 7, 8, 9, 10]`."
   ]
  },
  {
   "cell_type": "code",
   "execution_count": 29,
   "metadata": {
    "collapsed": true
   },
   "outputs": [],
   "source": [
    "# You can code a simple simulation to see what a distribution looks like using dictionaries\n",
    "d1 = {}\n",
    "for i in range(10000):\n",
    "    x = random.randrange(10) \n",
    "    d1[x] = d1.get(x, 0) + 1\n",
    "d2 = {}\n",
    "for i in range(10000):\n",
    "    x = int(random.random()*10)\n",
    "    d2[x] = d2.get(x, 0) + 1\n",
    "d3 = {}\n",
    "for i in range(10000):\n",
    "    x = random.randint(0, 10)\n",
    "    d3[x] = d3.get(x, 0) + 1\n",
    "    \n",
    "# d[\"key\"]와 d.get(\"key\")는 모두 key가 주어졌을 때, 해당되는 value를 반환한다\n",
    "# 만약 해당되는 value가 존재하지 않을 경우, d[\"key\"]는 에러가 발생한다\n",
    "# d.get(\"key\", 0)의 형태로 사용하면 value가 존재하지 않을 때 0으로 초기화 시킨다\n",
    "# http://stackoverflow.com/questions/11041405/why-dict-getkey-instead-of-dictkey"
   ]
  },
  {
   "cell_type": "code",
   "execution_count": 30,
   "metadata": {
    "collapsed": false
   },
   "outputs": [
    {
     "data": {
      "text/plain": [
       "{0: 1012,\n",
       " 1: 995,\n",
       " 2: 998,\n",
       " 3: 1017,\n",
       " 4: 1010,\n",
       " 5: 1013,\n",
       " 6: 1035,\n",
       " 7: 964,\n",
       " 8: 939,\n",
       " 9: 1017}"
      ]
     },
     "execution_count": 30,
     "metadata": {},
     "output_type": "execute_result"
    }
   ],
   "source": [
    "d1"
   ]
  },
  {
   "cell_type": "code",
   "execution_count": 31,
   "metadata": {
    "collapsed": false
   },
   "outputs": [
    {
     "data": {
      "text/plain": [
       "{0: 997,\n",
       " 1: 1011,\n",
       " 2: 947,\n",
       " 3: 987,\n",
       " 4: 968,\n",
       " 5: 1017,\n",
       " 6: 1006,\n",
       " 7: 1049,\n",
       " 8: 1042,\n",
       " 9: 976}"
      ]
     },
     "execution_count": 31,
     "metadata": {},
     "output_type": "execute_result"
    }
   ],
   "source": [
    "d2"
   ]
  },
  {
   "cell_type": "code",
   "execution_count": 32,
   "metadata": {
    "collapsed": false
   },
   "outputs": [
    {
     "data": {
      "text/plain": [
       "{0: 928,\n",
       " 1: 876,\n",
       " 2: 937,\n",
       " 3: 898,\n",
       " 4: 918,\n",
       " 5: 944,\n",
       " 6: 903,\n",
       " 7: 882,\n",
       " 8: 878,\n",
       " 9: 925,\n",
       " 10: 911}"
      ]
     },
     "execution_count": 32,
     "metadata": {},
     "output_type": "execute_result"
    }
   ],
   "source": [
    "d3"
   ]
  },
  {
   "cell_type": "markdown",
   "metadata": {},
   "source": [
    "---"
   ]
  },
  {
   "cell_type": "markdown",
   "metadata": {},
   "source": [
    "## DRUNKEN TESTS"
   ]
  },
  {
   "cell_type": "code",
   "execution_count": 34,
   "metadata": {
    "collapsed": true
   },
   "outputs": [],
   "source": [
    "def walk(f, d, numSteps): # field, drunk, a number of steps to be walked\n",
    "    start = f.getLoc(d) # initial location\n",
    "    for s in range(numSteps):\n",
    "        f.moveDrunk(d) # move 1 step\n",
    "    return(start.distFrom(f.getLoc(d)))"
   ]
  },
  {
   "cell_type": "code",
   "execution_count": 35,
   "metadata": {
    "collapsed": true
   },
   "outputs": [],
   "source": [
    "def simWalks(numSteps, numTrials): # number of steps, number of trials\n",
    "    homer = UsualDrunk('Homer') # creating a drunk\n",
    "    origin = Location(0, 0)\n",
    "    distances = [] # keep track of distance\n",
    "    for t in range(numTrials):\n",
    "        f = Field()\n",
    "        f.addDrunk(homer, origin)\n",
    "        distances.append(walk(f, homer, numSteps))\n",
    "    return distances"
   ]
  },
  {
   "cell_type": "code",
   "execution_count": 36,
   "metadata": {
    "collapsed": true
   },
   "outputs": [],
   "source": [
    "def drunkTest(numTrials = 20):\n",
    "    for numSteps in [10, 100, 1000, 10000]:\n",
    "        distances = simWalks(numSteps, numTrials)\n",
    "        print('Random walk of ' + str(numSteps) + ' steps')\n",
    "        print(' Mean =', sum(distances)/len(distances))\n",
    "        print(' Max =', max(distances), 'Min =', min(distances))"
   ]
  },
  {
   "cell_type": "code",
   "execution_count": 37,
   "metadata": {
    "collapsed": false
   },
   "outputs": [
    {
     "name": "stdout",
     "output_type": "stream",
     "text": [
      "Random walk of 10 steps\n",
      " Mean = 3.0148854447692015\n",
      " Max = 6.0 Min = 0.0\n",
      "Random walk of 100 steps\n",
      " Mean = 9.562265991860974\n",
      " Max = 18.110770276274835 Min = 1.4142135623730951\n",
      "Random walk of 1000 steps\n",
      " Mean = 27.570582514715674\n",
      " Max = 50.53711507397311 Min = 9.486832980505138\n",
      "Random walk of 10000 steps\n",
      " Mean = 89.54587051156605\n",
      " Max = 190.03157632351525 Min = 14.560219778561036\n"
     ]
    }
   ],
   "source": [
    "drunkTest()"
   ]
  },
  {
   "cell_type": "markdown",
   "metadata": {},
   "source": [
    "random한 값을 사용하기 때문에 값을 보고는 올바르게 코드가 구성되었는지 알 수 없다. 따라서 디버깅하기도 까다롭다\n",
    "\n",
    "random number의 결과를 일정하게 만들기 위해서 seed값을 고정시킨다"
   ]
  },
  {
   "cell_type": "code",
   "execution_count": 38,
   "metadata": {
    "collapsed": true
   },
   "outputs": [],
   "source": [
    "def drunkTest(numTrials = 20):\n",
    "    random.seed(0)\n",
    "    for numSteps in [10, 100, 1000, 10000]:\n",
    "        distances = simWalks(numSteps, numTrials)\n",
    "        print('Random walk of ' + str(numSteps) + ' steps')\n",
    "        print(' Mean =', sum(distances)/len(distances))\n",
    "        print(' Max =', max(distances), 'Min =', min(distances))"
   ]
  },
  {
   "cell_type": "markdown",
   "metadata": {},
   "source": [
    "**Random.seed**\n",
    "\n",
    "Pseudo-random choices"
   ]
  },
  {
   "cell_type": "code",
   "execution_count": 39,
   "metadata": {
    "collapsed": false
   },
   "outputs": [
    {
     "name": "stdout",
     "output_type": "stream",
     "text": [
      "Random walk of 10 steps\n",
      " Mean = 2.2343445498431285\n",
      " Max = 6.324555320336759 Min = 0.0\n",
      "Random walk of 100 steps\n",
      " Mean = 9.05477442938949\n",
      " Max = 19.849433241279208 Min = 4.0\n",
      "Random walk of 1000 steps\n",
      " Mean = 27.19060536477495\n",
      " Max = 47.01063709417264 Min = 8.0\n",
      "Random walk of 10000 steps\n",
      " Mean = 100.41723133974665\n",
      " Max = 157.58172482873766 Min = 33.734255586866\n"
     ]
    }
   ],
   "source": [
    "drunkTest()"
   ]
  },
  {
   "cell_type": "code",
   "execution_count": 41,
   "metadata": {
    "collapsed": false
   },
   "outputs": [],
   "source": [
    "## import pylab\n",
    "\n",
    "## #set line width\n",
    "## pylab.rcParams['lines.linewidth'] = 6\n",
    "## #set font size for titles\n",
    "## pylab.rcParams['axes.titlesize'] = 20\n",
    "## #set font size for labels on axes\n",
    "## pylab.rcParams['axes.labelsize'] = 20\n",
    "## #set size of numbers on x-axis\n",
    "## pylab.rcParams['xtick.major.size'] = 5\n",
    "## #set size of numbers on y-axis\n",
    "## pylab.rcParams['ytick.major.size'] = 5\n",
    "## #set size of markers\n",
    "## pylab.rcParams['lines.markersize'] = 10"
   ]
  },
  {
   "cell_type": "markdown",
   "metadata": {},
   "source": [
    "---"
   ]
  }
 ],
 "metadata": {
  "kernelspec": {
   "display_name": "Python 3",
   "language": "python",
   "name": "python3"
  },
  "language_info": {
   "codemirror_mode": {
    "name": "ipython",
    "version": 3
   },
   "file_extension": ".py",
   "mimetype": "text/x-python",
   "name": "python",
   "nbconvert_exporter": "python",
   "pygments_lexer": "ipython3",
   "version": "3.4.3"
  }
 },
 "nbformat": 4,
 "nbformat_minor": 0
}
